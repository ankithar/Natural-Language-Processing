{
 "cells": [
  {
   "cell_type": "code",
   "execution_count": 59,
   "metadata": {},
   "outputs": [],
   "source": [
    "import math\n",
    "import sys\n",
    "import string\n",
    "import io\n",
    "import os as os\n",
    "from os import walk\n",
    "import collections\n",
    "from collections import Counter\n",
    "import numpy as np"
   ]
  },
  {
   "cell_type": "code",
   "execution_count": 60,
   "metadata": {},
   "outputs": [
    {
     "name": "stdout",
     "output_type": "stream",
     "text": [
      "[240, 240, 240, 240]\n"
     ]
    }
   ],
   "source": [
    "dataPositiveTruthful=''\n",
    "dataPositiveDeceptive=''\n",
    "dataNegativeTruthful=''\n",
    "dataNegativeDeceptive=''\n",
    "\n",
    "data = ['','','','']\n",
    "countDocs = [0,0,0,0]\n",
    "\n",
    "#print(type(data[0]))\n",
    "\n",
    "def readFile(filename):\n",
    "    #print(filename)\n",
    "    with open(filename, 'r') as f2:\n",
    "        data = f2.read()\n",
    "    #print(data)\n",
    "    return data\n",
    "\n",
    "#for root, directories, filenames in os.walk(sys.argv[0]):\n",
    "for root, directories, filenames in os.walk(\"op_spam_training_data\"):\n",
    "    for filename in filenames:\n",
    "        name = str(os.path.join(root, filename))\n",
    "        if ('README' not in name.upper() and 'fold1' not in name and name.endswith(\".txt\")):\n",
    "            #docCount += 1\n",
    "            if ('positive' in name.lower()):\n",
    "                if ('truthful' in name.lower()):\n",
    "                    data[0]+=readFile(name)\n",
    "                    countDocs[0] += 1\n",
    "                elif ('deceptive' in name.lower()):\n",
    "                    data[1]+=readFile(name)\n",
    "                    countDocs[1] += 1\n",
    "            elif ('negative' in name.lower()):\n",
    "                if ('truthful' in name.lower()):\n",
    "                    data[2]+=readFile(name)\n",
    "                    countDocs[2] += 1\n",
    "                elif ('deceptive' in name.lower()):\n",
    "                    data[3]+=readFile(name)\n",
    "                    countDocs[3] += 1\n",
    "                    \n",
    "print(countDocs)\n",
    "\n",
    "\n",
    "def preprocess(data):\n",
    "    #global data\n",
    "    noPunc=''\n",
    "    for x in data:\n",
    "        if x in string.punctuation:\n",
    "            noPunc+=' '\n",
    "        else:\n",
    "            noPunc+=x\n",
    "\n",
    "    noNum = ''.join([i for i in noPunc if not i.isdigit()])\n",
    "    #print(noNum.split())\n",
    "    noSmallWords = ' '.join([j for j in noNum.split() if len(j)>2])\n",
    "    lowerCase = ' '.join([k.lower() for k in noNum.split()])\n",
    "    #stopWords = [\"i\", \"me\", \"my\", \"myself\", \"we\", \"our\", \"ours\", \"ourselves\", \"you\", \"your\", \"yours\", \"yourself\", \"yourselves\", \"he\", \"him\", \"his\", \"himself\", \"she\", \"her\", \"hers\", \"herself\", \"it\", \"its\", \"itself\", \"they\", \"them\", \"their\", \"theirs\", \"themselves\", \"what\", \"which\", \"who\", \"whom\", \"this\", \"that\", \"these\", \"those\", \"am\", \"is\", \"are\", \"was\", \"were\", \"be\", \"been\", \"being\", \"have\", \"has\", \"had\", \"having\", \"do\", \"does\", \"did\", \"doing\", \"a\", \"an\", \"the\", \"and\", \"but\", \"if\", \"or\", \"because\", \"as\", \"until\", \"while\", \"of\", \"at\", \"by\", \"for\", \"with\", \"about\", \"against\", \"between\", \"into\", \"through\", \"during\", \"before\", \"after\", \"above\", \"below\", \"to\", \"from\", \"up\", \"down\", \"in\", \"out\", \"on\", \"off\", \"over\", \"under\", \"again\", \"further\", \"then\", \"once\", \"here\", \"there\", \"when\", \"where\", \"why\", \"how\", \"all\", \"any\", \"both\", \"each\", \"few\", \"more\", \"most\", \"other\", \"some\", \"such\", \"no\", \"nor\", \"not\", \"only\", \"own\", \"same\", \"so\", \"than\", \"too\", \"very\", \"s\", \"t\", \"can\", \"will\", \"just\", \"don\", \"should\", \"now\"]\n",
    "    stopWords=['a', 'able', 'about', 'above', 'abst', 'accordance', 'according', 'accordingly', 'across', 'act', 'actually', 'added', 'adj', 'affected', 'affecting', 'affects', 'after', 'afterwards', 'again', 'against', 'ah', 'all', 'almost', 'alone', 'along', 'already', 'also', 'although', 'always', 'am', 'among', 'amongst', 'an', 'and', 'announce', 'another', 'any', 'anybody', 'anyhow', 'anymore', 'anyone', 'anything', 'anyway', 'anyways', 'anywhere', 'apparently', 'approximately', 'are', 'aren', 'arent', 'arise', 'around', 'as', 'aside', 'ask', 'asking', 'at', 'auth', 'available', 'away', 'awfully', 'b', 'back', 'be', 'became', 'because', 'become', 'becomes', 'becoming', 'been', 'before', 'beforehand', 'begin', 'beginning', 'beginnings', 'begins', 'behind', 'being', 'believe', 'below', 'beside', 'besides', 'between', 'beyond', 'biol', 'both', 'brief', 'briefly', 'but', 'by', 'c', 'ca', 'came', 'can', 'cannot', \"can't\", 'cause', 'causes', 'certain', 'certainly', 'co', 'com', 'come', 'comes', 'contain', 'containing', 'contains', 'could', 'couldnt', 'd', 'date', 'did', \"didn't\", 'different', 'do', 'does', \"doesn't\", 'doing', 'done', \"don't\", 'down', 'downwards', 'due', 'during', 'e', 'each', 'ed', 'edu', 'effect', 'eg', 'eight', 'eighty', 'either', 'else', 'elsewhere', 'end', 'ending', 'enough', 'especially', 'et', 'et-al', 'etc', 'even', 'ever', 'every', 'everybody', 'everyone', 'everything', 'everywhere', 'ex', 'except', 'f', 'far', 'few', 'ff', 'fifth', 'first', 'five', 'fix', 'followed', 'following', 'follows', 'for', 'former', 'formerly', 'forth', 'found', 'four', 'from', 'further', 'furthermore', 'g', 'gave', 'get', 'gets', 'getting', 'give', 'given', 'gives', 'giving', 'go', 'goes', 'gone', 'got', 'gotten', 'h', 'had', 'happens', 'hardly', 'has', \"hasn't\", 'have', \"haven't\", 'having', 'he', 'hed', 'hence', 'her', 'here', 'hereafter', 'hereby', 'herein', 'heres', 'hereupon', 'hers', 'herself', 'hes', 'hi', 'hid', 'him', 'himself', 'his', 'hither', 'home', 'how', 'howbeit', 'however', 'hundred', 'i', 'id', 'ie', 'if', \"i'll\", 'im', 'immediate', 'immediately', 'importance', 'important', 'in', 'inc', 'indeed', 'index', 'information', 'instead', 'into', 'invention', 'inward', 'is', \"isn't\", 'it', 'itd', \"it'll\", 'its', 'itself', \"i've\", 'j', 'just', 'k', 'keep\\tkeeps', 'kept', 'kg', 'km', 'know', 'known', 'knows', 'l', 'largely', 'last', 'lately', 'later', 'latter', 'latterly', 'least', 'less', 'lest', 'let', 'lets', 'like', 'liked', 'likely', 'line', 'little', \"'ll\", 'look', 'looking', 'looks', 'ltd', 'm', 'made', 'mainly', 'make', 'makes', 'many', 'may', 'maybe', 'me', 'mean', 'means', 'meantime', 'meanwhile', 'merely', 'mg', 'might', 'million', 'miss', 'ml', 'more', 'moreover', 'most', 'mostly', 'mr', 'mrs', 'much', 'mug', 'must', 'my', 'myself', 'n', 'na', 'name', 'namely', 'nay', 'nd', 'near', 'nearly', 'necessarily', 'necessary', 'need', 'needs', 'neither', 'never', 'nevertheless', 'new', 'next', 'nine', 'ninety', 'no', 'nobody', 'non', 'none', 'nonetheless', 'noone', 'nor', 'normally', 'nos', 'not', 'noted', 'nothing', 'now', 'nowhere', 'o', 'obtain', 'obtained', 'obviously', 'of', 'off', 'often', 'oh', 'ok', 'okay', 'old', 'omitted', 'on', 'once', 'one', 'ones', 'only', 'onto', 'or', 'ord', 'other', 'others', 'otherwise', 'ought', 'our', 'ours', 'ourselves', 'out', 'outside', 'over', 'overall', 'owing', 'own', 'p', 'page', 'pages', 'part', 'particular', 'particularly', 'past', 'per', 'perhaps', 'placed', 'please', 'plus', 'poorly', 'possible', 'possibly', 'potentially', 'pp', 'predominantly', 'present', 'previously', 'primarily', 'probably', 'promptly', 'proud', 'provides', 'put', 'q', 'que', 'quickly', 'quite', 'qv', 'r', 'ran', 'rather', 'rd', 're', 'readily', 'really', 'recent', 'recently', 'ref', 'refs', 'regarding', 'regardless', 'regards', 'related', 'relatively', 'research', 'respectively', 'resulted', 'resulting', 'results', 'right', 'run', 's', 'said', 'same', 'saw', 'say', 'saying', 'says', 'sec', 'section', 'see', 'seeing', 'seem', 'seemed', 'seeming', 'seems', 'seen', 'self', 'selves', 'sent', 'seven', 'several', 'shall', 'she', 'shed', \"she'll\", 'shes', 'should', \"shouldn't\", 'show', 'showed', 'shown', 'showns', 'shows', 'significant', 'significantly', 'similar', 'similarly', 'since', 'six', 'slightly', 'so', 'some', 'somebody', 'somehow', 'someone', 'somethan', 'something', 'sometime', 'sometimes', 'somewhat', 'somewhere', 'soon', 'sorry', 'specifically', 'specified', 'specify', 'specifying', 'still', 'stop', 'strongly', 'sub', 'substantially', 'successfully', 'such', 'sufficiently', 'suggest', 'sup', 'sure\\tt', 'take', 'taken', 'taking', 'tell', 'tends', 'th', 'than', 'thank', 'thanks', 'thanx', 'that', \"that'll\", 'thats', \"that've\", 'the', 'their', 'theirs', 'them', 'themselves', 'then', 'thence', 'there', 'thereafter', 'thereby', 'thered', 'therefore', 'therein', \"there'll\", 'thereof', 'therere', 'theres', 'thereto', 'thereupon', \"there've\", 'these', 'they', 'theyd', \"they'll\", 'theyre', \"they've\", 'think', 'this', 'those', 'thou', 'though', 'thoughh', 'thousand', 'throug', 'through', 'throughout', 'thru', 'thus', 'til', 'tip', 'to', 'together', 'too', 'took', 'toward', 'towards', 'tried', 'tries', 'truly', 'try', 'trying', 'ts', 'twice', 'two', 'u', 'un', 'under', 'unfortunately', 'unless', 'unlike', 'unlikely', 'until', 'unto', 'up', 'upon', 'ups', 'us', 'use', 'used', 'useful', 'usefully', 'usefulness', 'uses', 'using', 'usually', 'v', 'value', 'various', \"'ve\", 'very', 'via', 'viz', 'vol', 'vols', 'vs', 'w', 'want', 'wants', 'was', 'wasnt', 'way', 'we', 'wed', 'welcome', \"we'll\", 'went', 'were', 'werent', \"we've\", 'what', 'whatever', \"what'll\", 'whats', 'when', 'whence', 'whenever', 'where', 'whereafter', 'whereas', 'whereby', 'wherein', 'wheres', 'whereupon', 'wherever', 'whether', 'which', 'while', 'whim', 'whither', 'who', 'whod', 'whoever', 'whole', \"who'll\", 'whom', 'whomever', 'whos', 'whose', 'why', 'widely', 'willing', 'wish', 'with', 'within', 'without', 'wont', 'words', 'world', 'would', 'wouldnt', 'www', 'x', 'y', 'yes', 'yet', 'you', 'youd', \"you'll\", 'your', 'youre', 'yours', 'yourself', 'yourselves', \"you've\", 'z', 'zero']\n",
    "    noStopWords = ' '.join([k for k in lowerCase.split() if k not in stopWords])\n",
    "    #test = ' '.join([k for k in noSmallWords.split() if '\\n' not in k])\n",
    "    listOfWords = noStopWords.split()\n",
    "    counts = Counter(listOfWords)\n",
    "    #counts = Counter(set(listOfWords))\n",
    "    return counts\n",
    "\n",
    "countsPosTruth = preprocess(data[0])\n",
    "countsPosDec = preprocess(data[1])\n",
    "countsNegTruth = preprocess(data[2])\n",
    "countsNegDec = preprocess(data[3])"
   ]
  },
  {
   "cell_type": "code",
   "execution_count": 61,
   "metadata": {},
   "outputs": [
    {
     "name": "stdout",
     "output_type": "stream",
     "text": [
      "6785\n",
      "2632\n",
      "3925\n",
      "2247\n",
      "3344\n"
     ]
    }
   ],
   "source": [
    "vocab = countsPosTruth+countsNegTruth+countsPosDec+countsNegDec\n",
    "print(len(vocab))\n",
    "print(len(countsPosTruth))\n",
    "print(len(countsNegTruth))\n",
    "print(len(countsPosDec))\n",
    "print(len(countsNegDec))"
   ]
  },
  {
   "cell_type": "code",
   "execution_count": 62,
   "metadata": {},
   "outputs": [],
   "source": [
    "C=4\n",
    "logPrior=list()\n",
    "logLiklihood = collections.defaultdict(list)\n",
    "ndoc = countDocs[0]+countDocs[1]+countDocs[2]+countDocs[3]\n",
    "def train_NB():\n",
    "    for i in range(C):\n",
    "        nc = countDocs[i]\n",
    "        if(i==0):\n",
    "            bigDoc = countsPosTruth\n",
    "        if(i==1):\n",
    "            bigDoc = countsPosDec\n",
    "        if(i==2):\n",
    "            bigDoc = countsNegTruth\n",
    "        if(i==3):\n",
    "            bigDoc = countsNegDec\n",
    "            \n",
    "        logPriorValue = nc/ndoc\n",
    "        logPrior.append(np.log(logPriorValue))\n",
    "        \n",
    "        for word in vocab.keys():\n",
    "            countWC = bigDoc[word]\n",
    "            countWPC = vocab[word]\n",
    "            #print(countWPC)\n",
    "            prob = (countWC+1)/(sum(bigDoc.values())+len(vocab))\n",
    "            #prob = (countWC+1)/(countWPC)\n",
    "            logProb = np.log(prob)\n",
    "            logLiklihood[word].append(logProb)"
   ]
  },
  {
   "cell_type": "code",
   "execution_count": 63,
   "metadata": {},
   "outputs": [],
   "source": [
    "train_NB()"
   ]
  },
  {
   "cell_type": "code",
   "execution_count": 64,
   "metadata": {},
   "outputs": [],
   "source": [
    "fModel = open('nbmodel.txt', 'w')\n",
    "fModel.write(str(logPrior[0])+\",\"+str(logPrior[1])+\",\"+str(logPrior[2])+\",\"+str(logPrior[3])+\"\\n\")\n",
    "for key,value in logLiklihood.items():\n",
    "    fModel.write(str(key)+\",\"+str(value[0])+\",\"+str(value[1])+\",\"+str(value[2])+\",\"+str(value[3])+\"\\n\")\n",
    "fModel.close()"
   ]
  },
  {
   "cell_type": "code",
   "execution_count": 66,
   "metadata": {},
   "outputs": [
    {
     "ename": "SyntaxError",
     "evalue": "unexpected EOF while parsing (<ipython-input-66-91cebe310297>, line 5)",
     "output_type": "error",
     "traceback": [
      "\u001b[0;36m  File \u001b[0;32m\"<ipython-input-66-91cebe310297>\"\u001b[0;36m, line \u001b[0;32m5\u001b[0m\n\u001b[0;31m    \u001b[0m\n\u001b[0m    ^\u001b[0m\n\u001b[0;31mSyntaxError\u001b[0m\u001b[0;31m:\u001b[0m unexpected EOF while parsing\n"
     ]
    }
   ],
   "source": [
    "with open('nbmodel.txt', 'r') as fModel:\n",
    "    lines = fModel.readlines()\n",
    "    logPriorString = lines[0]\n",
    "    for i in logPriorString.split(','):\n",
    "        "
   ]
  },
  {
   "cell_type": "code",
   "execution_count": 42,
   "metadata": {},
   "outputs": [
    {
     "name": "stdout",
     "output_type": "stream",
     "text": [
      "<class 'str'>\n"
     ]
    }
   ],
   "source": [
    "print(type(lines[0]))"
   ]
  },
  {
   "cell_type": "code",
   "execution_count": 47,
   "metadata": {},
   "outputs": [
    {
     "name": "stdout",
     "output_type": "stream",
     "text": [
      "[-1.3862943611198906, -1.3862943611198906, -1.3862943611198906, -1.3862943611198906]\n"
     ]
    }
   ],
   "source": [
    "testList = [float(x) for x in lines[0].split(\",\")]\n",
    "print(testList)"
   ]
  },
  {
   "cell_type": "code",
   "execution_count": 48,
   "metadata": {},
   "outputs": [
    {
     "name": "stdout",
     "output_type": "stream",
     "text": [
      "[2, 3, 4]\n"
     ]
    }
   ],
   "source": [
    "lsTest3 = [1,2,3,4]\n",
    "lsTest3 = lsTest3[1:]\n",
    "print(lsTest3)"
   ]
  },
  {
   "cell_type": "code",
   "execution_count": 67,
   "metadata": {},
   "outputs": [],
   "source": [
    "with open('nbmodel.txt', 'r') as fModel:\n",
    "    lines = fModel.readlines()\n",
    "    logPriorDup = [float(x) for x in lines[0].split(\",\")]\n",
    "    logLiklihood = collections.defaultdict(list)\n",
    "    for i in range(1,len(lines)):\n",
    "        tempStringList = lines[i].split(\",\")\n",
    "        logLiklihood[tempStringList[0]] = [float(x) for x in tempStringList[1:]] \n"
   ]
  },
  {
   "cell_type": "code",
   "execution_count": 68,
   "metadata": {},
   "outputs": [
    {
     "name": "stdout",
     "output_type": "stream",
     "text": [
      "[-1.3862943611198906, -1.3862943611198906, -1.3862943611198906, -1.3862943611198906]\n"
     ]
    }
   ],
   "source": [
    "print(logPriorDup)"
   ]
  },
  {
   "cell_type": "code",
   "execution_count": 69,
   "metadata": {},
   "outputs": [
    {
     "name": "stdout",
     "output_type": "stream",
     "text": [
      "positive truthful op_spam_training_data/positive_polarity/truthful_from_TripAdvisor/fold1/t_james_17.txt\n",
      "\n",
      "negative truthful op_spam_training_data/positive_polarity/truthful_from_TripAdvisor/fold1/t_hilton_2.txt\n",
      "\n",
      "positive deceptive op_spam_training_data/positive_polarity/truthful_from_TripAdvisor/fold1/t_james_1.txt\n",
      "\n",
      "positive truthful op_spam_training_data/positive_polarity/truthful_from_TripAdvisor/fold1/t_hilton_3.txt\n",
      "\n",
      "positive truthful op_spam_training_data/positive_polarity/truthful_from_TripAdvisor/fold1/t_james_16.txt\n",
      "\n",
      "positive deceptive op_spam_training_data/positive_polarity/truthful_from_TripAdvisor/fold1/t_james_14.txt\n",
      "\n",
      "positive truthful op_spam_training_data/positive_polarity/truthful_from_TripAdvisor/fold1/t_hilton_1.txt\n",
      "\n",
      "positive deceptive op_spam_training_data/positive_polarity/truthful_from_TripAdvisor/fold1/t_james_3.txt\n",
      "\n",
      "positive deceptive op_spam_training_data/positive_polarity/truthful_from_TripAdvisor/fold1/t_james_2.txt\n",
      "\n",
      "positive truthful op_spam_training_data/positive_polarity/truthful_from_TripAdvisor/fold1/t_james_15.txt\n",
      "\n",
      "positive truthful op_spam_training_data/positive_polarity/truthful_from_TripAdvisor/fold1/t_james_11.txt\n",
      "\n",
      "positive truthful op_spam_training_data/positive_polarity/truthful_from_TripAdvisor/fold1/t_hilton_4.txt\n",
      "\n",
      "positive deceptive op_spam_training_data/positive_polarity/truthful_from_TripAdvisor/fold1/t_james_6.txt\n",
      "\n",
      "positive truthful op_spam_training_data/positive_polarity/truthful_from_TripAdvisor/fold1/t_monaco_9.txt\n",
      "\n",
      "positive truthful op_spam_training_data/positive_polarity/truthful_from_TripAdvisor/fold1/t_monaco_8.txt\n",
      "\n",
      "positive truthful op_spam_training_data/positive_polarity/truthful_from_TripAdvisor/fold1/t_james_7.txt\n",
      "\n",
      "positive deceptive op_spam_training_data/positive_polarity/truthful_from_TripAdvisor/fold1/t_hilton_5.txt\n",
      "\n",
      "positive truthful op_spam_training_data/positive_polarity/truthful_from_TripAdvisor/fold1/t_james_10.txt\n",
      "\n",
      "positive truthful op_spam_training_data/positive_polarity/truthful_from_TripAdvisor/fold1/t_james_12.txt\n",
      "\n",
      "positive truthful op_spam_training_data/positive_polarity/truthful_from_TripAdvisor/fold1/t_hilton_7.txt\n",
      "\n",
      "positive truthful op_spam_training_data/positive_polarity/truthful_from_TripAdvisor/fold1/t_james_5.txt\n",
      "\n",
      "positive truthful op_spam_training_data/positive_polarity/truthful_from_TripAdvisor/fold1/t_james_4.txt\n",
      "\n",
      "positive truthful op_spam_training_data/positive_polarity/truthful_from_TripAdvisor/fold1/t_hilton_6.txt\n",
      "\n",
      "positive deceptive op_spam_training_data/positive_polarity/truthful_from_TripAdvisor/fold1/t_james_13.txt\n",
      "\n",
      "positive truthful op_spam_training_data/positive_polarity/truthful_from_TripAdvisor/fold1/t_sofitel_6.txt\n",
      "\n",
      "positive deceptive op_spam_training_data/positive_polarity/truthful_from_TripAdvisor/fold1/t_monaco_19.txt\n",
      "\n",
      "positive truthful op_spam_training_data/positive_polarity/truthful_from_TripAdvisor/fold1/t_sofitel_20.txt\n",
      "\n",
      "positive deceptive op_spam_training_data/positive_polarity/truthful_from_TripAdvisor/fold1/t_monaco_18.txt\n",
      "\n",
      "positive truthful op_spam_training_data/positive_polarity/truthful_from_TripAdvisor/fold1/t_sofitel_7.txt\n",
      "\n",
      "positive truthful op_spam_training_data/positive_polarity/truthful_from_TripAdvisor/fold1/t_hilton_20.txt\n",
      "\n",
      "positive truthful op_spam_training_data/positive_polarity/truthful_from_TripAdvisor/fold1/t_sofitel_5.txt\n",
      "\n",
      "positive deceptive op_spam_training_data/positive_polarity/truthful_from_TripAdvisor/fold1/t_sofitel_4.txt\n",
      "\n",
      "positive deceptive op_spam_training_data/positive_polarity/truthful_from_TripAdvisor/fold1/t_sofitel_1.txt\n",
      "\n",
      "positive truthful op_spam_training_data/positive_polarity/truthful_from_TripAdvisor/fold1/t_hilton_18.txt\n",
      "\n",
      "positive truthful op_spam_training_data/positive_polarity/truthful_from_TripAdvisor/fold1/t_monaco_20.txt\n",
      "\n",
      "positive truthful op_spam_training_data/positive_polarity/truthful_from_TripAdvisor/fold1/t_sofitel_3.txt\n",
      "\n",
      "positive deceptive op_spam_training_data/positive_polarity/truthful_from_TripAdvisor/fold1/t_sofitel_19.txt\n",
      "\n",
      "positive truthful op_spam_training_data/positive_polarity/truthful_from_TripAdvisor/fold1/t_sofitel_18.txt\n",
      "\n",
      "positive truthful op_spam_training_data/positive_polarity/truthful_from_TripAdvisor/fold1/t_sofitel_2.txt\n",
      "\n",
      "positive truthful op_spam_training_data/positive_polarity/truthful_from_TripAdvisor/fold1/t_hilton_19.txt\n",
      "\n",
      "positive deceptive op_spam_training_data/positive_polarity/truthful_from_TripAdvisor/fold1/t_hilton_14.txt\n",
      "\n",
      "positive truthful op_spam_training_data/positive_polarity/truthful_from_TripAdvisor/fold1/t_monaco_10.txt\n",
      "\n",
      "positive deceptive op_spam_training_data/positive_polarity/truthful_from_TripAdvisor/fold1/t_sofitel_15.txt\n",
      "\n",
      "positive truthful op_spam_training_data/positive_polarity/truthful_from_TripAdvisor/fold1/t_sofitel_14.txt\n",
      "\n",
      "positive truthful op_spam_training_data/positive_polarity/truthful_from_TripAdvisor/fold1/t_monaco_11.txt\n",
      "\n",
      "positive truthful op_spam_training_data/positive_polarity/truthful_from_TripAdvisor/fold1/t_hilton_15.txt\n",
      "\n",
      "positive truthful op_spam_training_data/positive_polarity/truthful_from_TripAdvisor/fold1/t_monaco_13.txt\n",
      "\n",
      "negative truthful op_spam_training_data/positive_polarity/truthful_from_TripAdvisor/fold1/t_hilton_17.txt\n",
      "\n",
      "positive truthful op_spam_training_data/positive_polarity/truthful_from_TripAdvisor/fold1/t_sofitel_16.txt\n",
      "\n",
      "negative truthful op_spam_training_data/positive_polarity/truthful_from_TripAdvisor/fold1/t_sofitel_17.txt\n",
      "\n",
      "positive truthful op_spam_training_data/positive_polarity/truthful_from_TripAdvisor/fold1/t_hilton_16.txt\n",
      "\n",
      "positive truthful op_spam_training_data/positive_polarity/truthful_from_TripAdvisor/fold1/t_monaco_12.txt\n",
      "\n",
      "positive truthful op_spam_training_data/positive_polarity/truthful_from_TripAdvisor/fold1/t_sofitel_9.txt\n",
      "\n",
      "positive truthful op_spam_training_data/positive_polarity/truthful_from_TripAdvisor/fold1/t_monaco_16.txt\n",
      "\n",
      "positive truthful op_spam_training_data/positive_polarity/truthful_from_TripAdvisor/fold1/t_hilton_12.txt\n",
      "\n",
      "positive truthful op_spam_training_data/positive_polarity/truthful_from_TripAdvisor/fold1/t_sofitel_13.txt\n",
      "\n",
      "positive deceptive op_spam_training_data/positive_polarity/truthful_from_TripAdvisor/fold1/t_sofitel_12.txt\n",
      "\n",
      "positive truthful op_spam_training_data/positive_polarity/truthful_from_TripAdvisor/fold1/t_hilton_13.txt\n",
      "\n",
      "positive truthful op_spam_training_data/positive_polarity/truthful_from_TripAdvisor/fold1/t_monaco_17.txt\n",
      "\n",
      "positive truthful op_spam_training_data/positive_polarity/truthful_from_TripAdvisor/fold1/t_sofitel_8.txt\n",
      "\n",
      "positive truthful op_spam_training_data/positive_polarity/truthful_from_TripAdvisor/fold1/t_hilton_11.txt\n",
      "\n",
      "positive truthful op_spam_training_data/positive_polarity/truthful_from_TripAdvisor/fold1/t_monaco_15.txt\n",
      "\n",
      "positive deceptive op_spam_training_data/positive_polarity/truthful_from_TripAdvisor/fold1/t_sofitel_10.txt\n",
      "\n",
      "positive truthful op_spam_training_data/positive_polarity/truthful_from_TripAdvisor/fold1/t_sofitel_11.txt\n",
      "\n",
      "positive truthful op_spam_training_data/positive_polarity/truthful_from_TripAdvisor/fold1/t_monaco_14.txt\n",
      "\n",
      "positive truthful op_spam_training_data/positive_polarity/truthful_from_TripAdvisor/fold1/t_hilton_10.txt\n",
      "\n",
      "negative truthful op_spam_training_data/positive_polarity/truthful_from_TripAdvisor/fold1/t_james_9.txt\n",
      "\n",
      "negative truthful op_spam_training_data/positive_polarity/truthful_from_TripAdvisor/fold1/t_monaco_6.txt\n",
      "\n",
      "positive deceptive op_spam_training_data/positive_polarity/truthful_from_TripAdvisor/fold1/t_monaco_7.txt\n",
      "\n",
      "positive truthful op_spam_training_data/positive_polarity/truthful_from_TripAdvisor/fold1/t_james_8.txt\n",
      "\n",
      "positive truthful op_spam_training_data/positive_polarity/truthful_from_TripAdvisor/fold1/t_hilton_8.txt\n",
      "\n",
      "positive deceptive op_spam_training_data/positive_polarity/truthful_from_TripAdvisor/fold1/t_monaco_5.txt\n",
      "\n",
      "positive truthful op_spam_training_data/positive_polarity/truthful_from_TripAdvisor/fold1/t_monaco_4.txt\n",
      "\n",
      "positive deceptive op_spam_training_data/positive_polarity/truthful_from_TripAdvisor/fold1/t_hilton_9.txt\n",
      "\n",
      "positive truthful op_spam_training_data/positive_polarity/truthful_from_TripAdvisor/fold1/t_james_20.txt\n",
      "\n",
      "positive truthful op_spam_training_data/positive_polarity/truthful_from_TripAdvisor/fold1/t_james_18.txt\n",
      "\n",
      "positive truthful op_spam_training_data/positive_polarity/truthful_from_TripAdvisor/fold1/t_monaco_1.txt\n",
      "\n",
      "negative truthful op_spam_training_data/positive_polarity/truthful_from_TripAdvisor/fold1/t_james_19.txt\n",
      "\n",
      "positive truthful op_spam_training_data/positive_polarity/truthful_from_TripAdvisor/fold1/t_monaco_3.txt\n",
      "\n",
      "positive truthful op_spam_training_data/positive_polarity/truthful_from_TripAdvisor/fold1/t_monaco_2.txt\n",
      "\n"
     ]
    }
   ],
   "source": [
    "C=4\n",
    "def test_NB(testDoc):\n",
    "    sumList = list()\n",
    "    for i in range(C):\n",
    "        sumList.append(logPrior[i])\n",
    "        for word in testDoc.split(' '):\n",
    "            if(word in vocab.keys()):\n",
    "                #print(word)\n",
    "                #print(logLiklihood[word][i])\n",
    "                sumList[i]+=logLiklihood[word][i]\n",
    "                \n",
    "    ind = np.argmax(sumList)\n",
    "    return ind\n",
    "\n",
    "fout = open('nboutput.txt', 'w')\n",
    "#for root, directories, filenames in os.walk(sys.argv[0]):\n",
    "for root, directories, filenames in os.walk(\"op_spam_training_data/positive_polarity/truthful_from_TripAdvisor/fold1/\"):\n",
    "    for filename in filenames:\n",
    "        name = str(os.path.join(root, filename))\n",
    "        if ('README' not in name.upper() and name.endswith(\".txt\")):\n",
    "            with open(name, 'r') as f:\n",
    "                text = f.read().replace('\\n', ' ');\n",
    "                ind = test_NB(text)\n",
    "                res = ''\n",
    "                if ind == 0:\n",
    "                    res = \"positive truthful \"+name+\"\\n\"\n",
    "                    \n",
    "                elif ind == 1:\n",
    "                    res = \"positive deceptive \"+name+\"\\n\"\n",
    "                    \n",
    "                elif ind == 2:\n",
    "                    res = \"negative truthful \"+name+\"\\n\"\n",
    "                    \n",
    "                elif ind == 3:\n",
    "                    res=\"positive deceptive \"+name+\"\\n\"\n",
    "                print(res)\n",
    "                fout.write(res)\n",
    "fout.close()\n"
   ]
  },
  {
   "cell_type": "code",
   "execution_count": null,
   "metadata": {},
   "outputs": [],
   "source": []
  }
 ],
 "metadata": {
  "kernelspec": {
   "display_name": "Python 3",
   "language": "python",
   "name": "python3"
  },
  "language_info": {
   "codemirror_mode": {
    "name": "ipython",
    "version": 3
   },
   "file_extension": ".py",
   "mimetype": "text/x-python",
   "name": "python",
   "nbconvert_exporter": "python",
   "pygments_lexer": "ipython3",
   "version": "3.7.1"
  }
 },
 "nbformat": 4,
 "nbformat_minor": 2
}
